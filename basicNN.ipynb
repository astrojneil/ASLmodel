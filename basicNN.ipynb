{
 "cells": [
  {
   "cell_type": "markdown",
   "metadata": {},
   "source": [
    "# Basic NN model"
   ]
  },
  {
   "cell_type": "code",
   "execution_count": 40,
   "metadata": {},
   "outputs": [],
   "source": [
    "#imports \n",
    "import matplotlib.pyplot as plt\n",
    "import pandas as pd\n",
    "import numpy as np\n",
    "import tensorflow as tf\n",
    "import keras\n",
    "from keras.models import Sequential\n",
    "from keras.layers import *\n",
    "from keras import metrics\n",
    "from sklearn import preprocessing\n",
    "from keras.callbacks import History "
   ]
  },
  {
   "cell_type": "code",
   "execution_count": 15,
   "metadata": {},
   "outputs": [],
   "source": [
    "#load data\n",
    "trainset = pd.read_csv('archive/sign_mnist_train.csv')\n",
    "train_y = trainset['label']\n",
    "trainset.drop('label', inplace=True, axis=1)\n",
    "trainset = trainset.values.reshape(-1, 28,28, 1)\n",
    "\n",
    "testset = pd.read_csv('archive/sign_mnist_test.csv')\n",
    "test_y = testset['label']\n",
    "testset.drop('label', inplace=True, axis=1)\n",
    "testset = testset.values.reshape(-1, 28, 28, 1)\n",
    "\n",
    "#encode labels\n",
    "le = preprocessing.LabelEncoder()\n",
    "le.fit([\"A\", \"B\", \"C\", \"D\", \"E\", \"F\", \"G\", \"H\", \"I\", \"J\", \n",
    "        \"K\", \"L\", \"M\", \"N\", \"O\", \"P\", \"Q\", \"R\", \"S\", \"T\", \n",
    "        \"U\", \"V\", \"W\", \"X\", \"Y\", \"Z\"])\n",
    "\n",
    "trainlabel = le.inverse_transform(train_y)\n",
    "testlabel = le.inverse_transform(test_y)"
   ]
  },
  {
   "cell_type": "code",
   "execution_count": 16,
   "metadata": {},
   "outputs": [
    {
     "data": {
      "text/plain": [
       "Text(0.5, 1.0, 'L')"
      ]
     },
     "execution_count": 16,
     "metadata": {},
     "output_type": "execute_result"
    },
    {
     "data": {
      "image/png": "[encoded data removed]",
      "text/plain": [
       "<Figure size 432x288 with 1 Axes>"
      ]
     },
     "metadata": {
      "needs_background": "light"
     },
     "output_type": "display_data"
    }
   ],
   "source": [
    "#visualize the datasets\n",
    "i = 73\n",
    "plt.imshow(trainset[i][:,:,0])\n",
    "plt.title(trainlabel[i])"
   ]
  },
  {
   "cell_type": "code",
   "execution_count": 17,
   "metadata": {},
   "outputs": [],
   "source": [
    "#construct basic model\n",
    "model=Sequential([])\n",
    "\n",
    "#layer1\n",
    "model.add(Conv2D(64,(3,3),activation=\"relu\",input_shape=(28,28,1)))\n",
    "model.add(BatchNormalization())\n",
    "model.add(MaxPooling2D(2,2))\n",
    "\n",
    "#layer 2\n",
    "model.add(Conv2D(128,(3,3),activation=\"relu\"))\n",
    "model.add(BatchNormalization())\n",
    "model.add(MaxPooling2D(2,2))\n",
    "\n",
    "model.add(Flatten())\n",
    "model.add(Dense(256, activation=\"relu\"))\n",
    "model.add(Dense(26,activation=\"softmax\"))"
   ]
  },
  {
   "cell_type": "code",
   "execution_count": 39,
   "metadata": {},
   "outputs": [
    {
     "name": "stdout",
     "output_type": "stream",
     "text": [
      "Train on 19218 samples, validate on 8237 samples\n",
      "Epoch 1/1\n",
      "19218/19218 [==============================] - 59s 3ms/step - loss: 0.0267 - accuracy: 0.9929 - val_loss: 0.6855 - val_accuracy: 0.8943\n"
     ]
    },
    {
     "ename": "TypeError",
     "evalue": "'History' object is not subscriptable",
     "output_type": "error",
     "traceback": [
      "\u001b[0;31m---------------------------------------------------------------------------\u001b[0m",
      "\u001b[0;31mTypeError\u001b[0m                                 Traceback (most recent call last)",
      "\u001b[0;32m<ipython-input-39-8ea9dbbe200f>\u001b[0m in \u001b[0;36m<module>\u001b[0;34m\u001b[0m\n\u001b[1;32m      2\u001b[0m \u001b[0mmodel\u001b[0m\u001b[0;34m.\u001b[0m\u001b[0mcompile\u001b[0m\u001b[0;34m(\u001b[0m\u001b[0mloss\u001b[0m \u001b[0;34m=\u001b[0m \u001b[0;34m'sparse_categorical_crossentropy'\u001b[0m\u001b[0;34m,\u001b[0m \u001b[0moptimizer\u001b[0m \u001b[0;34m=\u001b[0m \u001b[0;34m'adam'\u001b[0m\u001b[0;34m,\u001b[0m \u001b[0mmetrics\u001b[0m \u001b[0;34m=\u001b[0m \u001b[0;34m[\u001b[0m\u001b[0;34m'accuracy'\u001b[0m\u001b[0;34m]\u001b[0m\u001b[0;34m)\u001b[0m\u001b[0;34m\u001b[0m\u001b[0;34m\u001b[0m\u001b[0m\n\u001b[1;32m      3\u001b[0m \u001b[0mp\u001b[0m \u001b[0;34m=\u001b[0m \u001b[0mmodel\u001b[0m\u001b[0;34m.\u001b[0m\u001b[0mfit\u001b[0m\u001b[0;34m(\u001b[0m\u001b[0mtrainset\u001b[0m\u001b[0;34m,\u001b[0m \u001b[0mtrain_y\u001b[0m\u001b[0;34m,\u001b[0m \u001b[0mepochs\u001b[0m\u001b[0;34m=\u001b[0m\u001b[0;36m1\u001b[0m\u001b[0;34m,\u001b[0m \u001b[0mbatch_size\u001b[0m\u001b[0;34m=\u001b[0m \u001b[0;36m32\u001b[0m\u001b[0;34m,\u001b[0m \u001b[0mvalidation_split\u001b[0m\u001b[0;34m=\u001b[0m\u001b[0;36m0.3\u001b[0m\u001b[0;34m)\u001b[0m\u001b[0;34m\u001b[0m\u001b[0;34m\u001b[0m\u001b[0m\n\u001b[0;32m----> 4\u001b[0;31m \u001b[0mprint\u001b[0m\u001b[0;34m(\u001b[0m\u001b[0mp\u001b[0m\u001b[0;34m[\u001b[0m\u001b[0;34m'loss'\u001b[0m\u001b[0;34m]\u001b[0m\u001b[0;34m)\u001b[0m\u001b[0;34m\u001b[0m\u001b[0;34m\u001b[0m\u001b[0m\n\u001b[0m",
      "\u001b[0;31mTypeError\u001b[0m: 'History' object is not subscriptable"
     ]
    }
   ],
   "source": [
    "#compile and train\n",
    "model.compile(loss = 'sparse_categorical_crossentropy', optimizer = 'adam', metrics = ['accuracy'])\n",
    "model.fit(trainset, train_y, epochs=1, batch_size= 32, validation_split=0.3)"
   ]
  },
  {
   "cell_type": "code",
   "execution_count": 32,
   "metadata": {},
   "outputs": [
    {
     "name": "stdout",
     "output_type": "stream",
     "text": [
      "7172/7172 [==============================] - 4s 616us/step\n"
     ]
    },
    {
     "data": {
      "text/plain": [
       "[0.4743178153042544, 0.8934746384620667]"
      ]
     },
     "execution_count": 32,
     "metadata": {},
     "output_type": "execute_result"
    }
   ],
   "source": [
    "#evaluate over all performance on the test set\n",
    "model.evaluate(testset, test_y, batch_size = 32)"
   ]
  },
  {
   "cell_type": "markdown",
   "metadata": {},
   "source": [
    "Predict from the model"
   ]
  },
  {
   "cell_type": "code",
   "execution_count": 33,
   "metadata": {},
   "outputs": [],
   "source": [
    "classes = model.predict(testset)\n",
    "predictions = np.argmax(classes, axis=1)\n",
    "predictlabels = le.inverse_transform(predictions)"
   ]
  },
  {
   "cell_type": "code",
   "execution_count": 36,
   "metadata": {},
   "outputs": [
    {
     "data": {
      "text/plain": [
       "Text(0.5, 1.0, 'H   (T)')"
      ]
     },
     "execution_count": 36,
     "metadata": {},
     "output_type": "execute_result"
    },
    {
     "data": {
      "image/png": "[encoded data removed]",
      "text/plain": [
       "<Figure size 432x288 with 1 Axes>"
      ]
     },
     "metadata": {
      "needs_background": "light"
     },
     "output_type": "display_data"
    }
   ],
   "source": [
    "#visualize the datasets\n",
    "i = 444\n",
    "plt.imshow(testset[i][:,:,0])\n",
    "plt.title(predictlabels[i]+'   ('+testlabel[i]+')')"
   ]
  },
  {
   "cell_type": "markdown",
   "metadata": {},
   "source": [
    "Evaluate loss over epochs"
   ]
  },
  {
   "cell_type": "code",
   "execution_count": 41,
   "metadata": {},
   "outputs": [
    {
     "name": "stdout",
     "output_type": "stream",
     "text": [
      "Train on 19218 samples, validate on 8237 samples\n",
      "Epoch 1/10\n",
      "19218/19218 [==============================] - 66s 3ms/step - loss: 0.0062 - accuracy: 0.9985 - val_loss: 0.0675 - val_accuracy: 0.9832\n",
      "Epoch 2/10\n",
      "19218/19218 [==============================] - 61s 3ms/step - loss: 0.0315 - accuracy: 0.9931 - val_loss: 0.9077 - val_accuracy: 0.8717\n",
      "Epoch 3/10\n",
      "19218/19218 [==============================] - 60s 3ms/step - loss: 0.0028 - accuracy: 0.9991 - val_loss: 0.0130 - val_accuracy: 0.9995\n",
      "Epoch 4/10\n",
      "19218/19218 [==============================] - 60s 3ms/step - loss: 8.3022e-06 - accuracy: 1.0000 - val_loss: 0.0134 - val_accuracy: 0.9995\n",
      "Epoch 5/10\n",
      "19218/19218 [==============================] - 60s 3ms/step - loss: 2.2683e-06 - accuracy: 1.0000 - val_loss: 0.0150 - val_accuracy: 0.9996\n",
      "Epoch 6/10\n",
      "19218/19218 [==============================] - 60s 3ms/step - loss: 1.7702e-06 - accuracy: 1.0000 - val_loss: 0.0165 - val_accuracy: 0.9996\n",
      "Epoch 7/10\n",
      "19218/19218 [==============================] - 60s 3ms/step - loss: 1.2311e-06 - accuracy: 1.0000 - val_loss: 0.0168 - val_accuracy: 0.9996\n",
      "Epoch 8/10\n",
      "19218/19218 [==============================] - 60s 3ms/step - loss: 7.8427e-07 - accuracy: 1.0000 - val_loss: 0.0141 - val_accuracy: 0.9996\n",
      "Epoch 9/10\n",
      "19218/19218 [==============================] - 57s 3ms/step - loss: 6.2508e-07 - accuracy: 1.0000 - val_loss: 0.0141 - val_accuracy: 0.9996\n",
      "Epoch 10/10\n",
      "19218/19218 [==============================] - 59s 3ms/step - loss: 4.6302e-07 - accuracy: 1.0000 - val_loss: 0.0155 - val_accuracy: 0.9995\n"
     ]
    },
    {
     "ename": "TypeError",
     "evalue": "'History' object is not subscriptable",
     "output_type": "error",
     "traceback": [
      "\u001b[0;31m---------------------------------------------------------------------------\u001b[0m",
      "\u001b[0;31mTypeError\u001b[0m                                 Traceback (most recent call last)",
      "\u001b[0;32m<ipython-input-41-b2f3dc96d7a5>\u001b[0m in \u001b[0;36m<module>\u001b[0;34m\u001b[0m\n\u001b[1;32m      1\u001b[0m \u001b[0mhistory\u001b[0m \u001b[0;34m=\u001b[0m \u001b[0mHistory\u001b[0m\u001b[0;34m(\u001b[0m\u001b[0;34m)\u001b[0m\u001b[0;34m\u001b[0m\u001b[0;34m\u001b[0m\u001b[0m\n\u001b[1;32m      2\u001b[0m \u001b[0mmodel\u001b[0m\u001b[0;34m.\u001b[0m\u001b[0mfit\u001b[0m\u001b[0;34m(\u001b[0m\u001b[0mtrainset\u001b[0m\u001b[0;34m,\u001b[0m \u001b[0mtrain_y\u001b[0m\u001b[0;34m,\u001b[0m \u001b[0mepochs\u001b[0m\u001b[0;34m=\u001b[0m\u001b[0;36m10\u001b[0m\u001b[0;34m,\u001b[0m \u001b[0mbatch_size\u001b[0m\u001b[0;34m=\u001b[0m\u001b[0;36m32\u001b[0m\u001b[0;34m,\u001b[0m \u001b[0mvalidation_split\u001b[0m\u001b[0;34m=\u001b[0m\u001b[0;36m0.3\u001b[0m\u001b[0;34m,\u001b[0m \u001b[0mcallbacks\u001b[0m\u001b[0;34m=\u001b[0m\u001b[0;34m[\u001b[0m\u001b[0mhistory\u001b[0m\u001b[0;34m]\u001b[0m\u001b[0;34m)\u001b[0m\u001b[0;34m\u001b[0m\u001b[0;34m\u001b[0m\u001b[0m\n\u001b[0;32m----> 3\u001b[0;31m \u001b[0mprint\u001b[0m\u001b[0;34m(\u001b[0m\u001b[0mhistory\u001b[0m\u001b[0;34m[\u001b[0m\u001b[0;34m'loss'\u001b[0m\u001b[0;34m]\u001b[0m\u001b[0;34m)\u001b[0m\u001b[0;34m\u001b[0m\u001b[0;34m\u001b[0m\u001b[0m\n\u001b[0m",
      "\u001b[0;31mTypeError\u001b[0m: 'History' object is not subscriptable"
     ]
    }
   ],
   "source": [
    "history = History()\n",
    "model.fit(trainset, train_y, epochs=10, batch_size=32, validation_split=0.3, callbacks=[history], verbose=0)"
   ]
  },
  {
   "cell_type": "code",
   "execution_count": 44,
   "metadata": {},
   "outputs": [
    {
     "name": "stdout",
     "output_type": "stream",
     "text": [
      "[0.006183814284762838, 0.031534590678560334, 0.0028152999429862545, 8.302232634689891e-06, 2.2683173625566222e-06, 1.7702126404585077e-06, 1.2311050415336582e-06, 7.842705885105595e-07, 6.250793316002976e-07, 4.630154635645269e-07]\n"
     ]
    }
   ],
   "source": [
    "print(history.history['loss'])"
   ]
  },
  {
   "cell_type": "code",
   "execution_count": 49,
   "metadata": {},
   "outputs": [
    {
     "data": {
      "text/plain": [
       "Text(0.5, 0, 'Epoch')"
      ]
     },
     "execution_count": 49,
     "metadata": {},
     "output_type": "execute_result"
    },
    {
     "data": {
      "image/png": "[encoded data removed]",
      "text/plain": [
       "<Figure size 432x288 with 1 Axes>"
      ]
     },
     "metadata": {
      "needs_background": "light"
     },
     "output_type": "display_data"
    }
   ],
   "source": [
    "plt.plot(np.arange(1, 11), history.history['loss'], label = 'Training')\n",
    "plt.plot(np.arange(1, 11), history.history['val_loss'], label = 'Validation')\n",
    "plt.legend()\n",
    "plt.yscale('log')\n",
    "plt.ylabel('Loss')\n",
    "plt.xlabel('Epoch')"
   ]
  },
  {
   "cell_type": "code",
   "execution_count": null,
   "metadata": {},
   "outputs": [
    {
     "name": "stdout",
     "output_type": "stream",
     "text": [
      "Train on 19218 samples, validate on 8237 samples\n",
      "Epoch 1/1\n",
      "19218/19218 [==============================] - 63s 3ms/step - loss: 0.0785 - accuracy: 0.9991 - val_loss: 0.0225 - val_accuracy: 0.9996\n",
      "Train on 19218 samples, validate on 8237 samples\n",
      "Epoch 1/1\n",
      "19218/19218 [==============================] - 60s 3ms/step - loss: 0.0354 - accuracy: 0.9995 - val_loss: 0.0051 - val_accuracy: 0.9999\n",
      "Train on 19218 samples, validate on 8237 samples\n",
      "Epoch 1/1\n",
      "19218/19218 [==============================] - 59s 3ms/step - loss: 6.2030e-12 - accuracy: 1.0000 - val_loss: 0.0000e+00 - val_accuracy: 1.0000\n",
      "Train on 19218 samples, validate on 8237 samples\n",
      "Epoch 1/1\n",
      "17280/19218 [=========================>....] - ETA: 5s - loss: 0.0000e+00 - accuracy: 1.0000"
     ]
    }
   ],
   "source": [
    "#learning rate;  how large of steps you take (in terms of gradient) to adjust the parameters\n",
    "history = History()\n",
    "train_loss = []\n",
    "val_loss = []\n",
    "for i in [0.001, 0.003, 0.01, 0.03, 0.1, 0.3, 1, 3, 10, 30]:\n",
    "    opt = keras.optimizers.Adam(learning_rate=i)\n",
    "    model.compile(loss = 'sparse_categorical_crossentropy', optimizer = opt, metrics = ['accuracy'])\n",
    "    model.fit(trainset, train_y, epochs=1, batch_size= 32, validation_split=0.3, callbacks=[history])\n",
    "    train_loss.append(history.history['loss'][0])\n",
    "    val_loss.append(history.history['val_loss'][0])"
   ]
  },
  {
   "cell_type": "code",
   "execution_count": null,
   "metadata": {},
   "outputs": [],
   "source": [
    "plt.plot([0.001, 0.003, 0.01, 0.03, 0.1, 0.3, 1, 3, 10, 30], train_loss, label = 'Training')\n",
    "plt.plot([0.001, 0.003, 0.01, 0.03, 0.1, 0.3, 1, 3, 10, 30], val_loss, label = 'Validation')\n",
    "plt.legend()\n",
    "plt.yscale('log')\n",
    "plt.ylabel('Loss')\n",
    "plt.xlabel('Epoch')"
   ]
  },
  {
   "cell_type": "code",
   "execution_count": null,
   "metadata": {},
   "outputs": [],
   "source": [
    "#beta1; exponential decay of first moment (how fast you adjust the \"momentum\" of the gradient descent)\n",
    "history = History()\n",
    "train_loss = []\n",
    "val_loss = []\n",
    "for i in [0.001, 0.003, 0.01, 0.03, 0.1, 0.3, 1, 3, 10, 30]:\n",
    "    opt = keras.optimizers.Adam(beta_1=1)\n",
    "    model.compile(loss = 'sparse_categorical_crossentropy', optimizer = opt, metrics = ['accuracy'])\n",
    "    model.fit(trainset, train_y, epochs=1, batch_size= 32, validation_split=0.3, callbacks=[history])\n",
    "    train_loss.append(history.history['loss'][0])\n",
    "    val_loss.append(history.history['val_loss'][0])"
   ]
  },
  {
   "cell_type": "code",
   "execution_count": null,
   "metadata": {},
   "outputs": [],
   "source": [
    "#beta2; expoenetial decay of the second moment (how fast you adjust the \"fricition\" of the gradient descent)\n",
    "history = History()\n",
    "train_loss = []\n",
    "val_loss = []\n",
    "for i in [0.001, 0.003, 0.01, 0.03, 0.1, 0.3, 1, 3, 10, 30]:\n",
    "    opt = keras.optimizers.Adam(beta_2=i)\n",
    "    model.compile(loss = 'sparse_categorical_crossentropy', optimizer = opt, metrics = ['accuracy'])\n",
    "    model.fit(trainset, train_y, epochs=1, batch_size= 32, validation_split=0.3, callbacks=[history])\n",
    "    train_loss.append(history.history['loss'][0])\n",
    "    val_loss.append(history.history['val_loss'][0])"
   ]
  }
 ],
 "metadata": {
  "kernelspec": {
   "display_name": "Python 3",
   "language": "python",
   "name": "python3"
  },
  "language_info": {
   "codemirror_mode": {
    "name": "ipython",
    "version": 3
   },
   "file_extension": ".py",
   "mimetype": "text/x-python",
   "name": "python",
   "nbconvert_exporter": "python",
   "pygments_lexer": "ipython3",
   "version": "3.7.4"
  }
 },
 "nbformat": 4,
 "nbformat_minor": 2
}
