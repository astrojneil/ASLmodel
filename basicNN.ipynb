{
 "cells": [
  {
   "cell_type": "markdown",
   "metadata": {},
   "source": [
    "# Classification of ASL letters "
   ]
  },
  {
   "cell_type": "markdown",
   "metadata": {},
   "source": [
    "### Developing and Training a Classification model with Keras"
   ]
  },
  {
   "cell_type": "markdown",
   "metadata": {},
   "source": [
    "Using the Kaggle ASL letter dataset, I construst and train a Neural Network model to classify each image by the letter shown in the image. The original data can be found here: https://www.kaggle.com/datamunge/sign-language-mnist"
   ]
  },
  {
   "cell_type": "code",
   "execution_count": 126,
   "metadata": {},
   "outputs": [],
   "source": [
    "#imports \n",
    "import matplotlib.pyplot as plt\n",
    "import pandas as pd\n",
    "import numpy as np\n",
    "import tensorflow as tf\n",
    "import keras\n",
    "from keras.models import Sequential\n",
    "from keras.layers import *\n",
    "from keras import metrics\n",
    "from sklearn import preprocessing\n",
    "from keras.callbacks import History "
   ]
  },
  {
   "cell_type": "markdown",
   "metadata": {},
   "source": [
    "## Load the train and test datasets, create labels "
   ]
  },
  {
   "cell_type": "code",
   "execution_count": 128,
   "metadata": {},
   "outputs": [],
   "source": [
    "#load data\n",
    "trainset = pd.read_csv('archive/sign_mnist_train.csv')\n",
    "train_y = trainset['label']\n",
    "trainset.drop('label', inplace=True, axis=1)\n",
    "trainset = trainset.values.reshape(-1, 28,28, 1)\n",
    "\n",
    "testset = pd.read_csv('archive/sign_mnist_test.csv')\n",
    "test_y = testset['label']\n",
    "testset.drop('label', inplace=True, axis=1)\n",
    "testset = testset.values.reshape(-1, 28, 28, 1)\n",
    "\n",
    "#encode labels\n",
    "le = preprocessing.LabelEncoder()\n",
    "le.fit([\"A\", \"B\", \"C\", \"D\", \"E\", \"F\", \"G\", \"H\", \"I\", \"J\", \n",
    "        \"K\", \"L\", \"M\", \"N\", \"O\", \"P\", \"Q\", \"R\", \"S\", \"T\", \n",
    "        \"U\", \"V\", \"W\", \"X\", \"Y\", \"Z\"])\n",
    "\n",
    "trainlabel = le.inverse_transform(train_y)\n",
    "testlabel = le.inverse_transform(test_y)"
   ]
  },
  {
   "cell_type": "markdown",
   "metadata": {},
   "source": [
    "## Visualize a sample image"
   ]
  },
  {
   "cell_type": "markdown",
   "metadata": {},
   "source": [
    "Each image shows a relatively centered hand signing one letter of the ASL alphanbet. The letters J and Z are excluded from the dataset because they involve motion to correctly sign. Each image is 28x28 pixels. "
   ]
  },
  {
   "cell_type": "code",
   "execution_count": 129,
   "metadata": {},
   "outputs": [
    {
     "data": {
      "text/plain": [
       "Text(0.5, 1.0, 'L')"
      ]
     },
     "execution_count": 129,
     "metadata": {},
     "output_type": "execute_result"
    },
    {
     "data": {
      "image/png": "[encoded data removed]",
      "text/plain": [
       "<Figure size 432x288 with 1 Axes>"
      ]
     },
     "metadata": {
      "needs_background": "light"
     },
     "output_type": "display_data"
    }
   ],
   "source": [
    "#visualize the datasets\n",
    "i = 73\n",
    "plt.imshow(trainset[i][:,:,0])\n",
    "plt.title(trainlabel[i])"
   ]
  },
  {
   "cell_type": "markdown",
   "metadata": {},
   "source": [
    "## Create a wider range of training samples"
   ]
  },
  {
   "cell_type": "markdown",
   "metadata": {},
   "source": [
    "With the ImageDataGenerator, we can create make a number of adjustments to the training images without actually editing the images on disk. Here we can create a wider variety of possible samples by adjusting the rotation, zoom, and even mimic images using the left hand instead of the right."
   ]
  },
  {
   "cell_type": "code",
   "execution_count": 130,
   "metadata": {},
   "outputs": [],
   "source": [
    "from keras.preprocessing.image import ImageDataGenerator\n",
    "traingen=ImageDataGenerator(rotation_range=20,\n",
    "                            zoom_range=0.1,\n",
    "                            width_shift_range=0.1,\n",
    "                            height_shift_range=0.1,\n",
    "                            shear_range=0.1,\n",
    "                            horizontal_flip=True,\n",
    "                            rescale=1/255.0,#normalising the data\n",
    "                            validation_split=0.2 #train_val split\n",
    "                            )\n",
    "traindata_generator = traingen.flow(trainset,train_y,subset='training')\n",
    "validationdata_generator = traingen.flow(trainset,train_y,subset='validation')\n",
    "\n",
    "testgen=ImageDataGenerator(rescale=1/255.0)\n",
    "testdata_generator = testgen.flow(testset,test_y)"
   ]
  },
  {
   "cell_type": "markdown",
   "metadata": {},
   "source": [
    "## Set up model"
   ]
  },
  {
   "cell_type": "markdown",
   "metadata": {},
   "source": [
    "Here I set up a relatively simple neural network based on the LeNet-5 model, as follows: \n",
    "\n",
    "1. Convolve the image\n",
    "    - 5x5 kernel \n",
    "    - 6 features\n",
    "    - reLu activation\n",
    "2. 2d Pooling\n",
    "    - 2x2 window\n",
    "3. Convolve \n",
    "    - 5x5 kernel\n",
    "    - 16 features\n",
    "    - reLu activation\n",
    "4. 2D Pooling\n",
    "    - 2x2 window\n",
    "5. Connected Layer\n",
    "    - Flatten, Dense"
   ]
  },
  {
   "cell_type": "code",
   "execution_count": 131,
   "metadata": {},
   "outputs": [],
   "source": [
    "#construct basic model\n",
    "model=Sequential([])\n",
    "\n",
    "#layer1\n",
    "model.add(Conv2D(6, (5,5), activation='relu', input_shape=(28,28,1)))\n",
    "\n",
    "#layer2\n",
    "model.add(MaxPooling2D(2,2))\n",
    "\n",
    "#layer3\n",
    "model.add(Conv2D(16, (5,5), activation='relu'))\n",
    "\n",
    "#layer4\n",
    "model.add(MaxPooling2D(2,2))\n",
    "\n",
    "#layer5\n",
    "model.add(Flatten())\n",
    "\n",
    "#layer5\n",
    "model.add(Dense(120, activation= 'relu'))\n",
    "model.add(Dense(26, activation ='softmax'))"
   ]
  },
  {
   "cell_type": "code",
   "execution_count": 132,
   "metadata": {},
   "outputs": [
    {
     "name": "stdout",
     "output_type": "stream",
     "text": [
      "Epoch 1/100\n",
      "687/687 [==============================] - 23s 33ms/step - loss: 2.4826 - accuracy: 0.2376 - val_loss: 1.9778 - val_accuracy: 0.3823\n",
      "Epoch 2/100\n",
      "687/687 [==============================] - 21s 31ms/step - loss: 1.6789 - accuracy: 0.4658 - val_loss: 0.8310 - val_accuracy: 0.5318\n",
      "Epoch 3/100\n",
      "687/687 [==============================] - 23s 33ms/step - loss: 1.2924 - accuracy: 0.5866 - val_loss: 1.2231 - val_accuracy: 0.5886\n",
      "Epoch 4/100\n",
      "687/687 [==============================] - 24s 34ms/step - loss: 1.0441 - accuracy: 0.6538 - val_loss: 1.2330 - val_accuracy: 0.7044\n",
      "Epoch 5/100\n",
      "687/687 [==============================] - 21s 30ms/step - loss: 0.8861 - accuracy: 0.7058 - val_loss: 1.0157 - val_accuracy: 0.7181\n",
      "Epoch 6/100\n",
      "687/687 [==============================] - 20s 28ms/step - loss: 0.7758 - accuracy: 0.7382 - val_loss: 1.2439 - val_accuracy: 0.7662\n",
      "Epoch 7/100\n",
      "687/687 [==============================] - 19s 27ms/step - loss: 0.6967 - accuracy: 0.7650 - val_loss: 0.8631 - val_accuracy: 0.7762\n",
      "Epoch 8/100\n",
      "687/687 [==============================] - 20s 30ms/step - loss: 0.6243 - accuracy: 0.7954 - val_loss: 1.3287 - val_accuracy: 0.7853\n",
      "Epoch 9/100\n",
      "687/687 [==============================] - 20s 29ms/step - loss: 0.5764 - accuracy: 0.8093 - val_loss: 0.3097 - val_accuracy: 0.8137\n",
      "Epoch 10/100\n",
      "687/687 [==============================] - 19s 28ms/step - loss: 0.5292 - accuracy: 0.8245 - val_loss: 0.7736 - val_accuracy: 0.8301\n",
      "Epoch 11/100\n",
      "687/687 [==============================] - 21s 31ms/step - loss: 0.4813 - accuracy: 0.8398 - val_loss: 0.4517 - val_accuracy: 0.8437\n",
      "Epoch 12/100\n",
      "687/687 [==============================] - 19s 28ms/step - loss: 0.4475 - accuracy: 0.8496 - val_loss: 0.6218 - val_accuracy: 0.8525\n",
      "Epoch 13/100\n",
      "687/687 [==============================] - 20s 29ms/step - loss: 0.4307 - accuracy: 0.8559 - val_loss: 0.2843 - val_accuracy: 0.8488\n",
      "Epoch 14/100\n",
      "687/687 [==============================] - 21s 30ms/step - loss: 0.3861 - accuracy: 0.8736 - val_loss: 0.2255 - val_accuracy: 0.8698\n",
      "Epoch 15/100\n",
      "687/687 [==============================] - 20s 30ms/step - loss: 0.3713 - accuracy: 0.8792 - val_loss: 0.6070 - val_accuracy: 0.8414\n",
      "Epoch 16/100\n",
      "687/687 [==============================] - 19s 28ms/step - loss: 0.3333 - accuracy: 0.8907 - val_loss: 0.2103 - val_accuracy: 0.8851\n",
      "Epoch 17/100\n",
      "687/687 [==============================] - 21s 30ms/step - loss: 0.3289 - accuracy: 0.8895 - val_loss: 0.4497 - val_accuracy: 0.8751\n",
      "Epoch 18/100\n",
      "687/687 [==============================] - 25s 36ms/step - loss: 0.3211 - accuracy: 0.8940 - val_loss: 0.3813 - val_accuracy: 0.8851\n",
      "Epoch 19/100\n",
      "687/687 [==============================] - 22s 32ms/step - loss: 0.2967 - accuracy: 0.9020 - val_loss: 0.1454 - val_accuracy: 0.8964\n",
      "Epoch 20/100\n",
      "687/687 [==============================] - 21s 31ms/step - loss: 0.2850 - accuracy: 0.9081 - val_loss: 0.3343 - val_accuracy: 0.9022\n",
      "Epoch 21/100\n",
      "687/687 [==============================] - 22s 32ms/step - loss: 0.2773 - accuracy: 0.9066 - val_loss: 0.3240 - val_accuracy: 0.9097\n",
      "Epoch 22/100\n",
      "687/687 [==============================] - 22s 32ms/step - loss: 0.2618 - accuracy: 0.9145 - val_loss: 0.0950 - val_accuracy: 0.9029\n",
      "Epoch 23/100\n",
      "687/687 [==============================] - 19s 28ms/step - loss: 0.2528 - accuracy: 0.9162 - val_loss: 0.1223 - val_accuracy: 0.9255\n",
      "Epoch 24/100\n",
      "687/687 [==============================] - 22s 32ms/step - loss: 0.2583 - accuracy: 0.9165 - val_loss: 0.3074 - val_accuracy: 0.9180\n",
      "Epoch 25/100\n",
      "687/687 [==============================] - 21s 31ms/step - loss: 0.2315 - accuracy: 0.9251 - val_loss: 0.0822 - val_accuracy: 0.9293\n",
      "Epoch 26/100\n",
      "687/687 [==============================] - 19s 28ms/step - loss: 0.2230 - accuracy: 0.9257 - val_loss: 0.0798 - val_accuracy: 0.9244\n",
      "Epoch 27/100\n",
      "687/687 [==============================] - 21s 31ms/step - loss: 0.2203 - accuracy: 0.9267 - val_loss: 0.3748 - val_accuracy: 0.9193\n",
      "Epoch 28/100\n",
      "687/687 [==============================] - 19s 28ms/step - loss: 0.2172 - accuracy: 0.9283 - val_loss: 0.1467 - val_accuracy: 0.9237\n",
      "Epoch 29/100\n",
      "687/687 [==============================] - 19s 28ms/step - loss: 0.2073 - accuracy: 0.9327 - val_loss: 0.1295 - val_accuracy: 0.9315\n",
      "Epoch 30/100\n",
      "687/687 [==============================] - 21s 31ms/step - loss: 0.1971 - accuracy: 0.9352 - val_loss: 0.2113 - val_accuracy: 0.9353\n",
      "Epoch 31/100\n",
      "687/687 [==============================] - 22s 32ms/step - loss: 0.1887 - accuracy: 0.9364 - val_loss: 0.3303 - val_accuracy: 0.9339\n",
      "Epoch 32/100\n",
      "687/687 [==============================] - 21s 31ms/step - loss: 0.1896 - accuracy: 0.9373 - val_loss: 0.3712 - val_accuracy: 0.9441\n",
      "Epoch 33/100\n",
      "687/687 [==============================] - 23s 34ms/step - loss: 0.1874 - accuracy: 0.9386 - val_loss: 0.2004 - val_accuracy: 0.9288\n",
      "Epoch 34/100\n",
      "687/687 [==============================] - 22s 31ms/step - loss: 0.1785 - accuracy: 0.9420 - val_loss: 0.0684 - val_accuracy: 0.9465\n",
      "Epoch 35/100\n",
      "687/687 [==============================] - 21s 30ms/step - loss: 0.1824 - accuracy: 0.9380 - val_loss: 0.3422 - val_accuracy: 0.9363\n",
      "Epoch 36/100\n",
      "687/687 [==============================] - 19s 27ms/step - loss: 0.1706 - accuracy: 0.9441 - val_loss: 0.2710 - val_accuracy: 0.9302\n",
      "Epoch 37/100\n",
      "687/687 [==============================] - 22s 32ms/step - loss: 0.1612 - accuracy: 0.9460 - val_loss: 0.2871 - val_accuracy: 0.9414\n",
      "Epoch 38/100\n",
      "687/687 [==============================] - 22s 32ms/step - loss: 0.1733 - accuracy: 0.9434 - val_loss: 0.0304 - val_accuracy: 0.9392\n",
      "Epoch 39/100\n",
      "687/687 [==============================] - 19s 28ms/step - loss: 0.1538 - accuracy: 0.9491 - val_loss: 0.1573 - val_accuracy: 0.9492\n",
      "Epoch 40/100\n",
      "687/687 [==============================] - 22s 32ms/step - loss: 0.1663 - accuracy: 0.9456 - val_loss: 0.0551 - val_accuracy: 0.9516\n",
      "Epoch 41/100\n",
      "687/687 [==============================] - 22s 32ms/step - loss: 0.1541 - accuracy: 0.9509 - val_loss: 0.3444 - val_accuracy: 0.9523\n",
      "Epoch 42/100\n",
      "687/687 [==============================] - 21s 31ms/step - loss: 0.1546 - accuracy: 0.9480 - val_loss: 0.2580 - val_accuracy: 0.9576\n",
      "Epoch 43/100\n",
      "687/687 [==============================] - 22s 32ms/step - loss: 0.1467 - accuracy: 0.9507 - val_loss: 0.0290 - val_accuracy: 0.9505\n",
      "Epoch 44/100\n",
      "687/687 [==============================] - 19s 28ms/step - loss: 0.1424 - accuracy: 0.9535 - val_loss: 0.4054 - val_accuracy: 0.9539\n",
      "Epoch 45/100\n",
      "687/687 [==============================] - 22s 32ms/step - loss: 0.1350 - accuracy: 0.9551 - val_loss: 0.0038 - val_accuracy: 0.9343\n",
      "Epoch 46/100\n",
      "687/687 [==============================] - 21s 30ms/step - loss: 0.1377 - accuracy: 0.9543 - val_loss: 0.3887 - val_accuracy: 0.9454\n",
      "Epoch 47/100\n",
      "687/687 [==============================] - 24s 35ms/step - loss: 0.1424 - accuracy: 0.9537 - val_loss: 0.0547 - val_accuracy: 0.9534\n",
      "Epoch 48/100\n",
      "687/687 [==============================] - 29s 42ms/step - loss: 0.1355 - accuracy: 0.9547 - val_loss: 0.1964 - val_accuracy: 0.9561\n",
      "Epoch 49/100\n",
      "687/687 [==============================] - 21s 31ms/step - loss: 0.1383 - accuracy: 0.9544 - val_loss: 0.1752 - val_accuracy: 0.9608\n",
      "Epoch 50/100\n",
      "687/687 [==============================] - 26s 38ms/step - loss: 0.1400 - accuracy: 0.9551 - val_loss: 0.0309 - val_accuracy: 0.9547\n",
      "Epoch 51/100\n",
      "687/687 [==============================] - 19s 28ms/step - loss: 0.1293 - accuracy: 0.9573 - val_loss: 0.0507 - val_accuracy: 0.9477\n",
      "Epoch 52/100\n",
      "687/687 [==============================] - 21s 31ms/step - loss: 0.1300 - accuracy: 0.9575 - val_loss: 0.1784 - val_accuracy: 0.9610\n",
      "Epoch 53/100\n",
      "687/687 [==============================] - 20s 30ms/step - loss: 0.1306 - accuracy: 0.9569 - val_loss: 0.1121 - val_accuracy: 0.9521\n",
      "Epoch 54/100\n",
      "687/687 [==============================] - 18s 27ms/step - loss: 0.1215 - accuracy: 0.9595 - val_loss: 0.0083 - val_accuracy: 0.9525\n",
      "Epoch 55/100\n",
      "687/687 [==============================] - 20s 29ms/step - loss: 0.1206 - accuracy: 0.9618 - val_loss: 0.1537 - val_accuracy: 0.9587\n",
      "Epoch 56/100\n",
      "687/687 [==============================] - 21s 30ms/step - loss: 0.1249 - accuracy: 0.9601 - val_loss: 0.0052 - val_accuracy: 0.9619\n",
      "Epoch 57/100\n"
     ]
    },
    {
     "name": "stdout",
     "output_type": "stream",
     "text": [
      "687/687 [==============================] - 18s 26ms/step - loss: 0.1169 - accuracy: 0.9612 - val_loss: 0.3275 - val_accuracy: 0.9572\n",
      "Epoch 58/100\n",
      "687/687 [==============================] - 20s 29ms/step - loss: 0.1098 - accuracy: 0.9645 - val_loss: 0.1063 - val_accuracy: 0.9618\n",
      "Epoch 59/100\n",
      "687/687 [==============================] - 19s 28ms/step - loss: 0.1146 - accuracy: 0.9627 - val_loss: 0.0454 - val_accuracy: 0.9667\n",
      "Epoch 60/100\n",
      "687/687 [==============================] - 21s 31ms/step - loss: 0.1171 - accuracy: 0.9633 - val_loss: 0.0237 - val_accuracy: 0.9594\n",
      "Epoch 61/100\n",
      "687/687 [==============================] - 20s 29ms/step - loss: 0.1115 - accuracy: 0.9620 - val_loss: 0.0189 - val_accuracy: 0.9588\n",
      "Epoch 62/100\n",
      "687/687 [==============================] - 18s 26ms/step - loss: 0.1131 - accuracy: 0.9638 - val_loss: 0.0084 - val_accuracy: 0.9594\n",
      "Epoch 63/100\n",
      "687/687 [==============================] - 17s 25ms/step - loss: 0.1026 - accuracy: 0.9663 - val_loss: 0.0641 - val_accuracy: 0.9654\n",
      "Epoch 64/100\n",
      "687/687 [==============================] - 20s 29ms/step - loss: 0.1091 - accuracy: 0.9653 - val_loss: 0.2173 - val_accuracy: 0.9679\n",
      "Epoch 65/100\n",
      "687/687 [==============================] - 18s 26ms/step - loss: 0.1034 - accuracy: 0.9659 - val_loss: 0.0563 - val_accuracy: 0.9610\n",
      "Epoch 66/100\n",
      "687/687 [==============================] - 20s 29ms/step - loss: 0.1113 - accuracy: 0.9619 - val_loss: 0.0650 - val_accuracy: 0.9645\n",
      "Epoch 67/100\n",
      "687/687 [==============================] - 20s 29ms/step - loss: 0.0979 - accuracy: 0.9679 - val_loss: 0.1061 - val_accuracy: 0.9641\n",
      "Epoch 68/100\n",
      "687/687 [==============================] - 17s 25ms/step - loss: 0.1086 - accuracy: 0.9651 - val_loss: 0.0459 - val_accuracy: 0.9672\n",
      "Epoch 69/100\n",
      "687/687 [==============================] - 20s 30ms/step - loss: 0.1045 - accuracy: 0.9651 - val_loss: 0.0456 - val_accuracy: 0.9701\n",
      "Epoch 70/100\n",
      "687/687 [==============================] - 19s 27ms/step - loss: 0.1045 - accuracy: 0.9655 - val_loss: 0.0324 - val_accuracy: 0.9574\n",
      "Epoch 71/100\n",
      "687/687 [==============================] - 17s 25ms/step - loss: 0.0962 - accuracy: 0.9693 - val_loss: 0.1884 - val_accuracy: 0.9718\n",
      "Epoch 72/100\n",
      "687/687 [==============================] - 20s 29ms/step - loss: 0.1034 - accuracy: 0.9672 - val_loss: 0.0881 - val_accuracy: 0.9720\n",
      "Epoch 73/100\n",
      "687/687 [==============================] - 20s 29ms/step - loss: 0.0983 - accuracy: 0.9688 - val_loss: 0.0276 - val_accuracy: 0.9700\n",
      "Epoch 74/100\n",
      "687/687 [==============================] - 19s 27ms/step - loss: 0.1043 - accuracy: 0.9665 - val_loss: 0.0148 - val_accuracy: 0.9588\n",
      "Epoch 75/100\n",
      "687/687 [==============================] - 20s 29ms/step - loss: 0.1068 - accuracy: 0.9662 - val_loss: 0.2103 - val_accuracy: 0.9659\n",
      "Epoch 76/100\n",
      "687/687 [==============================] - 18s 27ms/step - loss: 0.0924 - accuracy: 0.9713 - val_loss: 0.0088 - val_accuracy: 0.9659\n",
      "Epoch 77/100\n",
      "687/687 [==============================] - 20s 30ms/step - loss: 0.0890 - accuracy: 0.9711 - val_loss: 0.3728 - val_accuracy: 0.9450\n",
      "Epoch 78/100\n",
      "687/687 [==============================] - 18s 27ms/step - loss: 0.0939 - accuracy: 0.9683 - val_loss: 0.0149 - val_accuracy: 0.9736\n",
      "Epoch 79/100\n",
      "687/687 [==============================] - 18s 26ms/step - loss: 0.0963 - accuracy: 0.9688 - val_loss: 0.0722 - val_accuracy: 0.9661\n",
      "Epoch 80/100\n",
      "687/687 [==============================] - 25s 36ms/step - loss: 0.0937 - accuracy: 0.9697 - val_loss: 0.3092 - val_accuracy: 0.9720\n",
      "Epoch 81/100\n",
      "687/687 [==============================] - 21s 31ms/step - loss: 0.0925 - accuracy: 0.9685 - val_loss: 0.0567 - val_accuracy: 0.9667\n",
      "Epoch 82/100\n",
      "687/687 [==============================] - 19s 28ms/step - loss: 0.0972 - accuracy: 0.9678 - val_loss: 0.0806 - val_accuracy: 0.9705\n",
      "Epoch 83/100\n",
      "687/687 [==============================] - 20s 29ms/step - loss: 0.0926 - accuracy: 0.9709 - val_loss: 0.0179 - val_accuracy: 0.9681\n",
      "Epoch 84/100\n",
      "687/687 [==============================] - 20s 29ms/step - loss: 0.0877 - accuracy: 0.9701 - val_loss: 0.0385 - val_accuracy: 0.9700\n",
      "Epoch 85/100\n",
      "687/687 [==============================] - 18s 26ms/step - loss: 0.0942 - accuracy: 0.9698 - val_loss: 0.0585 - val_accuracy: 0.9670\n",
      "Epoch 86/100\n",
      "687/687 [==============================] - 20s 29ms/step - loss: 0.0899 - accuracy: 0.9710 - val_loss: 0.0268 - val_accuracy: 0.9674\n",
      "Epoch 87/100\n",
      "687/687 [==============================] - 21s 30ms/step - loss: 0.0903 - accuracy: 0.9704 - val_loss: 0.0404 - val_accuracy: 0.9701\n",
      "Epoch 88/100\n",
      "687/687 [==============================] - 18s 26ms/step - loss: 0.0886 - accuracy: 0.9719 - val_loss: 0.1241 - val_accuracy: 0.9740\n",
      "Epoch 89/100\n",
      "687/687 [==============================] - 21s 30ms/step - loss: 0.0764 - accuracy: 0.9739 - val_loss: 0.0137 - val_accuracy: 0.9709\n",
      "Epoch 90/100\n",
      "687/687 [==============================] - 20s 29ms/step - loss: 0.0900 - accuracy: 0.9707 - val_loss: 0.1725 - val_accuracy: 0.9760\n",
      "Epoch 91/100\n",
      "687/687 [==============================] - 19s 28ms/step - loss: 0.0899 - accuracy: 0.9727 - val_loss: 0.1644 - val_accuracy: 0.9730\n",
      "Epoch 92/100\n",
      "687/687 [==============================] - 21s 30ms/step - loss: 0.0832 - accuracy: 0.9747 - val_loss: 0.0104 - val_accuracy: 0.9743\n",
      "Epoch 93/100\n",
      "687/687 [==============================] - 20s 29ms/step - loss: 0.0970 - accuracy: 0.9695 - val_loss: 0.0836 - val_accuracy: 0.9774\n",
      "Epoch 94/100\n",
      "687/687 [==============================] - 17s 25ms/step - loss: 0.0816 - accuracy: 0.9743 - val_loss: 0.0195 - val_accuracy: 0.9749\n",
      "Epoch 95/100\n",
      "687/687 [==============================] - 19s 28ms/step - loss: 0.0805 - accuracy: 0.9736 - val_loss: 0.0980 - val_accuracy: 0.9751\n",
      "Epoch 96/100\n",
      "687/687 [==============================] - 19s 28ms/step - loss: 0.0884 - accuracy: 0.9726 - val_loss: 0.2080 - val_accuracy: 0.9752\n",
      "Epoch 97/100\n",
      "687/687 [==============================] - 19s 27ms/step - loss: 0.0743 - accuracy: 0.9761 - val_loss: 0.1340 - val_accuracy: 0.9767\n",
      "Epoch 98/100\n",
      "687/687 [==============================] - 20s 29ms/step - loss: 0.0808 - accuracy: 0.9743 - val_loss: 0.4798 - val_accuracy: 0.9714\n",
      "Epoch 99/100\n",
      "687/687 [==============================] - 18s 26ms/step - loss: 0.0850 - accuracy: 0.9718 - val_loss: 0.1351 - val_accuracy: 0.9705\n",
      "Epoch 100/100\n",
      "687/687 [==============================] - 20s 29ms/step - loss: 0.0830 - accuracy: 0.9737 - val_loss: 0.0038 - val_accuracy: 0.9630\n"
     ]
    },
    {
     "data": {
      "text/plain": [
       "<keras.callbacks.callbacks.History at 0x1a5ac15550>"
      ]
     },
     "execution_count": 132,
     "metadata": {},
     "output_type": "execute_result"
    }
   ],
   "source": [
    "#compile and train\n",
    "epoch_num = 100\n",
    "model.compile(loss = 'sparse_categorical_crossentropy', optimizer = 'adam', metrics = ['accuracy'])\n",
    "history = History()\n",
    "\n",
    "#model.fit(trainset, train_y, epochs=10, batch_size=256, \n",
    "#          validation_split=0.3, callbacks=[history], verbose=1, shuffle=True)\n",
    "\n",
    "model.fit(traindata_generator, epochs=epoch_num,\n",
    "         validation_data=validationdata_generator, callbacks=[history], verbose=1, shuffle=True)"
   ]
  },
  {
   "cell_type": "code",
   "execution_count": 100,
   "metadata": {},
   "outputs": [
    {
     "data": {
      "image/png": "[encoded data removed]",
      "text/plain": [
       "<Figure size 432x288 with 1 Axes>"
      ]
     },
     "metadata": {
      "needs_background": "light"
     },
     "output_type": "display_data"
    },
    {
     "data": {
      "image/png": "[encoded data removed]",
      "text/plain": [
       "<Figure size 432x288 with 1 Axes>"
      ]
     },
     "metadata": {
      "needs_background": "light"
     },
     "output_type": "display_data"
    }
   ],
   "source": [
    "plt.plot(np.arange(1, epoch_num+1), history.history['loss'], label = 'Training')\n",
    "plt.plot(np.arange(1, epoch_num+1), history.history['val_loss'], label = 'Validation')\n",
    "plt.legend()\n",
    "#plt.yscale('log')\n",
    "plt.ylabel('Loss')\n",
    "plt.xlabel('Epoch')\n",
    "plt.show()\n",
    "\n",
    "plt.plot(np.arange(1, epoch_num+1), history.history['accuracy'], label = 'Training')\n",
    "plt.plot(np.arange(1, epoch_num+1), history.history['val_accuracy'], label = 'Validation')\n",
    "plt.legend()\n",
    "plt.ylabel('Accuracy')\n",
    "plt.xlabel('Epoch')\n",
    "plt.show()"
   ]
  },
  {
   "cell_type": "code",
   "execution_count": 102,
   "metadata": {},
   "outputs": [
    {
     "name": "stdout",
     "output_type": "stream",
     "text": [
      "225/225 [==============================] - 2s 7ms/step\n",
      "Test loss: 0.024344980716705322\n",
      "Test accuracy: 0.9650027751922607\n"
     ]
    }
   ],
   "source": [
    "# Score trained model.\n",
    "scores = model.evaluate(testdata_generator, verbose=1)\n",
    "print('Test loss:', scores[0])\n",
    "print('Test accuracy:', scores[1])"
   ]
  },
  {
   "cell_type": "code",
   "execution_count": 114,
   "metadata": {},
   "outputs": [
    {
     "name": "stdout",
     "output_type": "stream",
     "text": [
      "7172/7172 [==============================] - 1s 127us/step\n",
      "Test loss: 188.19556515082525\n",
      "Test accuracy: 0.7946179509162903\n"
     ]
    }
   ],
   "source": [
    "# Score trained model.\n",
    "scores = model.evaluate(testset, test_y, verbose=1)\n",
    "print('Test loss:', scores[0])\n",
    "print('Test accuracy:', scores[1])"
   ]
  },
  {
   "cell_type": "markdown",
   "metadata": {},
   "source": [
    "## Save Model"
   ]
  },
  {
   "cell_type": "code",
   "execution_count": 120,
   "metadata": {},
   "outputs": [
    {
     "name": "stdout",
     "output_type": "stream",
     "text": [
      "Saved model at ./models/leNet_NN.h5\n"
     ]
    }
   ],
   "source": [
    "model_name = 'leNet_NN.h5'\n",
    "model_path = './models/'\n",
    "model.save(model_path+model_name, include_optimizer=False)\n",
    "print('Saved model at '+model_path+model_name)"
   ]
  },
  {
   "cell_type": "markdown",
   "metadata": {},
   "source": [
    "### Load saved model"
   ]
  },
  {
   "cell_type": "code",
   "execution_count": 123,
   "metadata": {},
   "outputs": [],
   "source": [
    "from keras.models import load_model\n",
    "model_load = load_model(model_path+model_name)\n",
    "model_load.compile(loss = 'sparse_categorical_crossentropy', optimizer = 'adam', metrics = ['accuracy'])"
   ]
  },
  {
   "cell_type": "markdown",
   "metadata": {},
   "source": [
    "## Test Prediction from Model"
   ]
  },
  {
   "cell_type": "code",
   "execution_count": 124,
   "metadata": {},
   "outputs": [],
   "source": [
    "classes = model_load.predict(testset)\n",
    "predictions = np.argmax(classes, axis=1)\n",
    "predictlabels = le.inverse_transform(predictions)"
   ]
  },
  {
   "cell_type": "code",
   "execution_count": 125,
   "metadata": {},
   "outputs": [
    {
     "data": {
      "text/plain": [
       "Text(0.5, 1.0, 'F   (F)')"
      ]
     },
     "execution_count": 125,
     "metadata": {},
     "output_type": "execute_result"
    },
    {
     "data": {
      "image/png": "[encoded data removed]",
      "text/plain": [
       "<Figure size 432x288 with 1 Axes>"
      ]
     },
     "metadata": {
      "needs_background": "light"
     },
     "output_type": "display_data"
    }
   ],
   "source": [
    "#visualize the test\n",
    "i = np.random.choice(testset.shape[0], 1)[0]\n",
    "plt.imshow(testset[i][:,:,0])\n",
    "plt.title(predictlabels[i]+'   ('+testlabel[i]+')')"
   ]
  },
  {
   "cell_type": "code",
   "execution_count": null,
   "metadata": {},
   "outputs": [],
   "source": []
  }
 ],
 "metadata": {
  "kernelspec": {
   "display_name": "Python 3",
   "language": "python",
   "name": "python3"
  },
  "language_info": {
   "codemirror_mode": {
    "name": "ipython",
    "version": 3
   },
   "file_extension": ".py",
   "mimetype": "text/x-python",
   "name": "python",
   "nbconvert_exporter": "python",
   "pygments_lexer": "ipython3",
   "version": "3.7.4"
  }
 },
 "nbformat": 4,
 "nbformat_minor": 2
}
